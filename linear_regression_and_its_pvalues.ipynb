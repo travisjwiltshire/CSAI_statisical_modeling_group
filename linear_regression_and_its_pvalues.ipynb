{
  "nbformat": 4,
  "nbformat_minor": 5,
  "metadata": {
    "kernelspec": {
      "display_name": "Python 3",
      "language": "python",
      "name": "python3"
    },
    "language_info": {
      "codemirror_mode": {
        "name": "ipython",
        "version": 3
      },
      "file_extension": ".py",
      "mimetype": "text/x-python",
      "name": "python",
      "nbconvert_exporter": "python",
      "pygments_lexer": "ipython3",
      "version": "3.9.4"
    },
    "colab": {
      "name": "linear-regression-and-its-pvalues.ipynb",
      "provenance": [],
      "collapsed_sections": [],
      "include_colab_link": true
    }
  },
  "cells": [
    {
      "cell_type": "markdown",
      "metadata": {
        "id": "view-in-github",
        "colab_type": "text"
      },
      "source": [
        "<a href=\"https://colab.research.google.com/github/travisjwiltshire/CSAI_statistical_modeling_group/blob/master/linear_regression_and_its_pvalues.ipynb\" target=\"_parent\"><img src=\"https://colab.research.google.com/assets/colab-badge.svg\" alt=\"Open In Colab\"/></a>"
      ]
    },
    {
      "cell_type": "markdown",
      "metadata": {
        "id": "9ec6ea9c-babe-461c-b762-b9f17401942b"
      },
      "source": [
        "# Linear regression and its p-values\n",
        "\n"
      ],
      "id": "9ec6ea9c-babe-461c-b762-b9f17401942b"
    },
    {
      "cell_type": "markdown",
      "metadata": {
        "id": "6e964b10-06c3-4b84-bf63-cb0bf7500547"
      },
      "source": [
        "\n",
        "\n",
        "## Dataset\n",
        "\n",
        "The movie [Moneyball](https://en.wikipedia.org/wiki/Moneyball_(film)) focuses on the \"quest for the secret of success in baseball\". It follows a low-budget team, the Oakland Athletics, who believed that underused statistics, such as a player's ability to get on base, better predict the ability to score runs than typical statistics like home runs, RBIs (runs batted in), and batting average. Obtaining players who excelled in these underused statistics turned out to be much more affordable for the team.\n",
        "\n",
        "We'll be looking at data from all 30 Major League Baseball teams from **2011** and examine their **linear relationship between runs scored in a season and a number of other player statistics**. Our aim will be to summarize these relationships both graphically and numerically in order to find which variable, if any, helps us best predict a team's runs scored in a season."
      ],
      "id": "6e964b10-06c3-4b84-bf63-cb0bf7500547"
    },
    {
      "cell_type": "code",
      "metadata": {
        "colab": {
          "base_uri": "https://localhost:8080/",
          "height": 272
        },
        "id": "5687ffc3-016e-4311-b545-069725c796cd",
        "outputId": "c4621aad-0b84-4898-a7a9-d0b3c1a66e79"
      },
      "source": [
        "import numpy as np\n",
        "import pandas as pd\n",
        "import matplotlib.pyplot as plt \n",
        "import seaborn as sns \n",
        "import statsmodels.api as sm\n",
        "from scipy import stats\n",
        "\n",
        "!gdown --id 19xxb9G4tYRweuZYIeT3wqp84tHBT8A90\n",
        "baseball = pd.read_csv('BaseballStats.csv')\n",
        "baseball.head()"
      ],
      "id": "5687ffc3-016e-4311-b545-069725c796cd",
      "execution_count": null,
      "outputs": [
        {
          "output_type": "stream",
          "text": [
            "Downloading...\n",
            "From: https://drive.google.com/uc?id=19xxb9G4tYRweuZYIeT3wqp84tHBT8A90\n",
            "To: /content/BaseballStats.csv\n",
            "\r  0% 0.00/2.21k [00:00<?, ?B/s]\r100% 2.21k/2.21k [00:00<00:00, 1.71MB/s]\n"
          ],
          "name": "stdout"
        },
        {
          "output_type": "execute_result",
          "data": {
            "text/html": [
              "<div>\n",
              "<style scoped>\n",
              "    .dataframe tbody tr th:only-of-type {\n",
              "        vertical-align: middle;\n",
              "    }\n",
              "\n",
              "    .dataframe tbody tr th {\n",
              "        vertical-align: top;\n",
              "    }\n",
              "\n",
              "    .dataframe thead th {\n",
              "        text-align: right;\n",
              "    }\n",
              "</style>\n",
              "<table border=\"1\" class=\"dataframe\">\n",
              "  <thead>\n",
              "    <tr style=\"text-align: right;\">\n",
              "      <th></th>\n",
              "      <th>team</th>\n",
              "      <th>runs</th>\n",
              "      <th>at_bats</th>\n",
              "      <th>hits</th>\n",
              "      <th>homeruns</th>\n",
              "      <th>bat_avg</th>\n",
              "      <th>strikeouts</th>\n",
              "      <th>stolen_bases</th>\n",
              "      <th>wins</th>\n",
              "      <th>new_onbase</th>\n",
              "      <th>new_slug</th>\n",
              "      <th>new_obs</th>\n",
              "    </tr>\n",
              "  </thead>\n",
              "  <tbody>\n",
              "    <tr>\n",
              "      <th>0</th>\n",
              "      <td>Texas Rangers</td>\n",
              "      <td>855</td>\n",
              "      <td>5659</td>\n",
              "      <td>1599</td>\n",
              "      <td>210</td>\n",
              "      <td>0.283</td>\n",
              "      <td>930</td>\n",
              "      <td>143</td>\n",
              "      <td>96</td>\n",
              "      <td>0.340</td>\n",
              "      <td>0.460</td>\n",
              "      <td>0.800</td>\n",
              "    </tr>\n",
              "    <tr>\n",
              "      <th>1</th>\n",
              "      <td>Boston Red Sox</td>\n",
              "      <td>875</td>\n",
              "      <td>5710</td>\n",
              "      <td>1600</td>\n",
              "      <td>203</td>\n",
              "      <td>0.280</td>\n",
              "      <td>1108</td>\n",
              "      <td>102</td>\n",
              "      <td>90</td>\n",
              "      <td>0.349</td>\n",
              "      <td>0.461</td>\n",
              "      <td>0.810</td>\n",
              "    </tr>\n",
              "    <tr>\n",
              "      <th>2</th>\n",
              "      <td>Detroit Tigers</td>\n",
              "      <td>787</td>\n",
              "      <td>5563</td>\n",
              "      <td>1540</td>\n",
              "      <td>169</td>\n",
              "      <td>0.277</td>\n",
              "      <td>1143</td>\n",
              "      <td>49</td>\n",
              "      <td>95</td>\n",
              "      <td>0.340</td>\n",
              "      <td>0.434</td>\n",
              "      <td>0.773</td>\n",
              "    </tr>\n",
              "    <tr>\n",
              "      <th>3</th>\n",
              "      <td>Kansas City Royals</td>\n",
              "      <td>730</td>\n",
              "      <td>5672</td>\n",
              "      <td>1560</td>\n",
              "      <td>129</td>\n",
              "      <td>0.275</td>\n",
              "      <td>1006</td>\n",
              "      <td>153</td>\n",
              "      <td>71</td>\n",
              "      <td>0.329</td>\n",
              "      <td>0.415</td>\n",
              "      <td>0.744</td>\n",
              "    </tr>\n",
              "    <tr>\n",
              "      <th>4</th>\n",
              "      <td>St. Louis Cardinals</td>\n",
              "      <td>762</td>\n",
              "      <td>5532</td>\n",
              "      <td>1513</td>\n",
              "      <td>162</td>\n",
              "      <td>0.273</td>\n",
              "      <td>978</td>\n",
              "      <td>57</td>\n",
              "      <td>90</td>\n",
              "      <td>0.341</td>\n",
              "      <td>0.425</td>\n",
              "      <td>0.766</td>\n",
              "    </tr>\n",
              "  </tbody>\n",
              "</table>\n",
              "</div>"
            ],
            "text/plain": [
              "                  team  runs  at_bats  ...  new_onbase  new_slug  new_obs\n",
              "0        Texas Rangers   855     5659  ...       0.340     0.460    0.800\n",
              "1       Boston Red Sox   875     5710  ...       0.349     0.461    0.810\n",
              "2       Detroit Tigers   787     5563  ...       0.340     0.434    0.773\n",
              "3   Kansas City Royals   730     5672  ...       0.329     0.415    0.744\n",
              "4  St. Louis Cardinals   762     5532  ...       0.341     0.425    0.766\n",
              "\n",
              "[5 rows x 12 columns]"
            ]
          },
          "metadata": {
            "tags": []
          },
          "execution_count": 2
        }
      ]
    },
    {
      "cell_type": "markdown",
      "metadata": {
        "id": "1635543c-79e5-41aa-90be-fa4cf9e38a1f"
      },
      "source": [
        "Here are the descriptions of the variables in this dataset:\n",
        "\n",
        "*  team: Team name\n",
        "*  runs: Number of runs\n",
        "\n",
        "*Traditional variables for predicting the number of runs*\n",
        "*  at_bats: Number of at bats (the number of times a batter had a turn batting against a pitcher)\n",
        "*  hits: Number of hits (when the batter safely reaches or passes first base after hitting the ball into fair territory)\n",
        "*  homerun: Number of home runs.\n",
        "*  bat_avg: Batting average (the number of hits divided by at bats)\n",
        "*  strikeouts: Number of strikeouts (when a batter racks up three strikes during a time at bat).\n",
        "*  stolen_bases: Number of stolen bases (when a runner advances to a base to which he is not entitled)\n",
        "*  wins: Number of wins.\n",
        "\n",
        "*New variables for predicting the number of runs*\n",
        "*  new_onbase: On base percentage, measure of how often a batter reaches base for any reason other than a fielding error, fielder's choice, dropped/uncaught third strike, fielder's obstruction, or catcher's interference.\n",
        "*  new_slug: Slugging percentage, measure of the power of a hitter calculated as the total bases divided by at bats.\n",
        "*  new_obs: On base plus slugging, calculated as the sum of these two variables\n"
      ],
      "id": "1635543c-79e5-41aa-90be-fa4cf9e38a1f"
    },
    {
      "cell_type": "markdown",
      "metadata": {
        "id": "adaa10e5-c860-4715-9137-2581c47687df"
      },
      "source": [
        "# Simple Linear Regression\n",
        "\n",
        "**Main goal**\n",
        "The main goal is to explain statistical hypothesis testing in a simple linear regression by manually computing its test-statistic and p-value.\n",
        "\n",
        "**Substeps**\n",
        "\n",
        "1. Checking assumptions:  Evaluate the **direction** (positive, negative), **form** (linear or not linear) and **strength**  of the association between the explanatory and response numerical variables\n",
        "2. Fit a linear regression model $y = \\beta_0 + \\beta_1 x$ using the equations explained in the slides\n",
        "- Compute manually and with software the point estimates (estimated from observed data) $b_0, b_1$ for $\\beta_0, \\beta_1$ \n",
        "- Define the least squares line as the line that minimizes the sum of the squared residuals, and list conditions necessary for fitting such line:\n",
        "    - linearity\n",
        "    - nearly normal residuals\n",
        "    - constant variability\n",
        "\n",
        "where $x$ is known as the **explanatory** variable, $y$ the **response** variable, $\\beta_1$ the slope coefficient and $b_0$ is the intercept/bias coefficient.\n",
        "\n",
        "\n",
        "\n",
        "## Hypothesis-testing\n",
        "<a id='Hypothesis-testing'></a>\n",
        "\n",
        "We start with a simple linear regression model \n",
        "\n",
        "$$y = \\beta_0 + \\beta_1 x + \\epsilon$$\n",
        "\n",
        "\n",
        "First, we want to see what is the effect of $hits$ on $runs_scored$ in a season \n",
        "\n",
        "$$\\hat{y} = \\hat{\\beta_0} + \\hat{\\beta_1} x $$\n",
        "\n",
        "- **Residuals** $e_i = y_i -\\hat{y}$\n",
        "- **Estimator**\n",
        "    - *Least Squares* : Minimize the sum of squares of the residuals\n",
        "        - Real parameters: $(\\beta_0,\\beta_1)$\n",
        "        - Estimated parameters: $(b_0,b_1)$ (Point estimates) \n",
        "            - $b_1 = r \\frac{S_y}{S_x}$\n",
        "            - $b_0 = \\bar{y}- b_1\\bar{x}$ since $ \\hat{y} = b_0 + b_1 x$\n",
        "\n",
        "Here, we show what p-value and hypothesis testing means in linear regression. \n",
        "\n",
        "We are interested whether a explanatory varaible $X_i$ affect the response variable $Y$.\n",
        "\n",
        "The hypothesis that describes this is:\n",
        "\n",
        "<font color='blue'>\n",
        "    \n",
        "$H_0$: $\\beta = 0$ Hits do not affect runs scored in a season <br>\n",
        "$H_1$: $\\beta \\ne 0$ Hits do  affect runs scored in a season \n",
        "\n",
        "\n",
        "</font>"
      ],
      "id": "adaa10e5-c860-4715-9137-2581c47687df"
    },
    {
      "cell_type": "markdown",
      "metadata": {
        "id": "c7931e4f-85ac-4e3b-a84c-142bd077abf7"
      },
      "source": [
        "## 1. Checking assumptions\n",
        "\n",
        "First we need to evaluate the **direction** (positive, negative), **form** (linear or not linear) and **strength**  of the association between the explanatory and response numerical varaibles to determine whether it makes sense to fit a linear model."
      ],
      "id": "c7931e4f-85ac-4e3b-a84c-142bd077abf7"
    },
    {
      "cell_type": "code",
      "metadata": {
        "colab": {
          "base_uri": "https://localhost:8080/",
          "height": 279
        },
        "id": "68664584-2733-4a4b-bbf2-46137ac9117c",
        "outputId": "b66fb2a3-d14a-42b7-b938-b245eaeacb80"
      },
      "source": [
        "sns.scatterplot(y=baseball.runs, x=baseball.at_bats)\n",
        "plt.ylabel('Runs')\n",
        "plt.xlabel(\"Batter's turn batting against a pitcher\")\n",
        "plt.show()"
      ],
      "id": "68664584-2733-4a4b-bbf2-46137ac9117c",
      "execution_count": null,
      "outputs": [
        {
          "output_type": "display_data",
          "data": {
            "image/png": "[encoded data removed]",
            "text/plain": [
              "<Figure size 432x288 with 1 Axes>"
            ]
          },
          "metadata": {
            "tags": [],
            "needs_background": "light"
          }
        }
      ]
    },
    {
      "cell_type": "markdown",
      "metadata": {
        "id": "f5385bc3-8923-49a3-ac62-c6a1b69480a6"
      },
      "source": [
        "<font color='red'>The relationship between the two variables seems **linear, upward sloping, and moderately strong**. For those reasons, we are comfortable fitting a linear model to this data</font>"
      ],
      "id": "f5385bc3-8923-49a3-ac62-c6a1b69480a6"
    },
    {
      "cell_type": "markdown",
      "metadata": {
        "id": "3e9806eb-f34b-44a9-8b3e-11f061919a92"
      },
      "source": [
        "## 2. Fitting our model with statsmodels\n",
        "\n",
        "Once the assumptions have been met we can now fit our linear model. We are goint to start of fitting our model with the `statsmodels` api."
      ],
      "id": "3e9806eb-f34b-44a9-8b3e-11f061919a92"
    },
    {
      "cell_type": "code",
      "metadata": {
        "colab": {
          "base_uri": "https://localhost:8080/"
        },
        "id": "da219a4e-d0ca-444f-bb54-10c56dc374c4",
        "outputId": "4b8bfe19-6b2e-420f-80f1-1de9335ce46f"
      },
      "source": [
        "formula_string = \"runs ~ at_bats\"\n",
        "\n",
        "model = sm.formula.ols(formula = formula_string, data = baseball)\n",
        "model_fitted = model.fit()\n",
        "\n",
        "print(model_fitted.summary())"
      ],
      "id": "da219a4e-d0ca-444f-bb54-10c56dc374c4",
      "execution_count": null,
      "outputs": [
        {
          "output_type": "stream",
          "text": [
            "                            OLS Regression Results                            \n",
            "==============================================================================\n",
            "Dep. Variable:                   runs   R-squared:                       0.373\n",
            "Model:                            OLS   Adj. R-squared:                  0.350\n",
            "Method:                 Least Squares   F-statistic:                     16.65\n",
            "Date:                Thu, 22 Jul 2021   Prob (F-statistic):           0.000339\n",
            "Time:                        21:47:00   Log-Likelihood:                -167.44\n",
            "No. Observations:                  30   AIC:                             338.9\n",
            "Df Residuals:                      28   BIC:                             341.7\n",
            "Df Model:                           1                                         \n",
            "Covariance Type:            nonrobust                                         \n",
            "==============================================================================\n",
            "                 coef    std err          t      P>|t|      [0.025      0.975]\n",
            "------------------------------------------------------------------------------\n",
            "Intercept  -2789.2429    853.696     -3.267      0.003   -4537.959   -1040.526\n",
            "at_bats        0.6305      0.155      4.080      0.000       0.314       0.947\n",
            "==============================================================================\n",
            "Omnibus:                        2.579   Durbin-Watson:                   1.524\n",
            "Prob(Omnibus):                  0.275   Jarque-Bera (JB):                1.559\n",
            "Skew:                           0.544   Prob(JB):                        0.459\n",
            "Kurtosis:                       3.252   Cond. No.                     3.89e+05\n",
            "==============================================================================\n",
            "\n",
            "Warnings:\n",
            "[1] Standard Errors assume that the covariance matrix of the errors is correctly specified.\n",
            "[2] The condition number is large, 3.89e+05. This might indicate that there are\n",
            "strong multicollinearity or other numerical problems.\n"
          ],
          "name": "stdout"
        }
      ]
    },
    {
      "cell_type": "markdown",
      "metadata": {
        "id": "8fd12c17-4a23-4956-820f-15d8db1e568e"
      },
      "source": [
        "## 3. Fitting our model manually"
      ],
      "id": "8fd12c17-4a23-4956-820f-15d8db1e568e"
    },
    {
      "cell_type": "markdown",
      "metadata": {
        "id": "f54a5cfe-58e2-4014-9f19-fc294505b953"
      },
      "source": [
        "Here, we fit the model manually using the equations shown in the slides.\n",
        "\n",
        "\n",
        "\n",
        "\n",
        "Estimated parameters: $(\\hat{\\beta}_0,\\hat{\\beta}_1, \\hat{\\sigma})$ (Point estimates) :\n",
        "- $\\hat{\\beta}_1 = \\frac{\\sum (X_i -\\bar{X})(Y_i -\\bar{Y})}{\\sum (X_i -\\bar{X})^2} = \\frac{S_{XY}}{S_{XX}}$\n",
        "- $\\hat{\\beta}_0 = \\bar{Y}- \\hat{\\beta}_1\\bar{X}$\n",
        "- $\\hat{\\sigma}^2 = \\frac{1}{n-2} RSS$"
      ],
      "id": "f54a5cfe-58e2-4014-9f19-fc294505b953"
    },
    {
      "cell_type": "code",
      "metadata": {
        "id": "85c545a8-9abf-4550-9b31-795eaadc90c9"
      },
      "source": [
        "y = baseball.runs.values\n",
        "x = baseball.at_bats.values\n",
        "n = len(x)\n",
        "y_mean = y.mean()\n",
        "x_mean = x.mean()\n",
        "\n",
        "# parameter estimation\n",
        "b1 = np.sum((x-x_mean)*(y-y_mean))/np.sum((x-x_mean)**2)\n",
        "b0 = y_mean - b1 * x_mean\n",
        "\n",
        "# estimated model\n",
        "y_hat = b0 + b1*x\n",
        "\n",
        "\n",
        "# compute variance of the random error\n",
        "n = len(x)\n",
        "residuals = y-y_hat\n",
        "RSS = np.sum(residuals**2)\n",
        "\n",
        "hat_var =  RSS/(n-2)\n",
        "hat_sigma = np.sqrt(hat_var)"
      ],
      "id": "85c545a8-9abf-4550-9b31-795eaadc90c9",
      "execution_count": null,
      "outputs": []
    },
    {
      "cell_type": "markdown",
      "metadata": {
        "id": "d957638e-bc5f-44f4-9bf3-3e5278dd8a22"
      },
      "source": [
        "## 4. Comparing `statsmodel api` with manual fitting"
      ],
      "id": "d957638e-bc5f-44f4-9bf3-3e5278dd8a22"
    },
    {
      "cell_type": "code",
      "metadata": {
        "colab": {
          "base_uri": "https://localhost:8080/",
          "height": 368
        },
        "id": "5559d2b1-bf1f-4930-947d-046554c02235",
        "outputId": "9c5464ab-42ce-4e22-ac05-b289b5b082bb"
      },
      "source": [
        "fig, ax = plt.subplots(1, 2, figsize=(2*7,5))\n",
        "\n",
        "# Statsmodel \n",
        "text = 'Fitted line $y = {:.2f} + {:.2f}*x$'.format(model_fitted.params['Intercept'],model_fitted.params['at_bats'])\n",
        "sns.scatterplot(y=baseball.runs, x=baseball.at_bats, label='Data', ax=ax[0])\n",
        "sns.lineplot(x=baseball.at_bats.values, y=model_fitted.params['Intercept'] + model_fitted.params['at_bats']*baseball.at_bats.values, color='r', label=text, ax=ax[0])\n",
        "ax[0].set_title('statsmodel')\n",
        "\n",
        "# # Using sns regplot\n",
        "print('Estimated linear model: y = {:.4f} + {:.4f}*av_bats'.format(b0,b1))\n",
        "sns.scatterplot(x=x, y=y, label='Data')\n",
        "sns.lineplot(x=baseball.at_bats.values, y=y_hat, color='r',label='Fitted line $y = {:.2f} + {:.2f}*x$'.format(b0,b1))\n",
        "ax[1].set_title('Our model')\n",
        "plt.show()"
      ],
      "id": "5559d2b1-bf1f-4930-947d-046554c02235",
      "execution_count": null,
      "outputs": [
        {
          "output_type": "stream",
          "text": [
            "Estimated linear model: y = -2789.2429 + 0.6305*av_bats\n"
          ],
          "name": "stdout"
        },
        {
          "output_type": "display_data",
          "data": {
            "image/png": "[encoded data removed]",
            "text/plain": [
              "<Figure size 1008x360 with 2 Axes>"
            ]
          },
          "metadata": {
            "tags": [],
            "needs_background": "light"
          }
        }
      ]
    },
    {
      "cell_type": "markdown",
      "metadata": {
        "id": "c11eb04b-54b5-48bb-bb81-b6702adf9d3c"
      },
      "source": [
        "## 5. Variances of the least squares estimators\n",
        "\n",
        "Recall that $\\hat{\\beta}_k$ is a *point estimate* of $\\beta_k$. The standard error of $\\hat{\\beta}_k$ tell us how the point estimate is likely to vary from the corresponding population parameter.\n",
        "\n",
        "The formula for simple linear regression is \n",
        "\n",
        "$$V[\\hat{\\beta}_0] = \\hat{\\sigma} \\frac{RSS}{n  S_{XX}}$$\n",
        "$$V[\\hat{\\beta}_1] =  \\frac{\\hat{\\sigma}}{S_{XX}}$$\n",
        "- RSS : Residuals Sum of Squares $RSS= \\sum_i^n (y_i-\\hat{y})^2$\n",
        "\n"
      ],
      "id": "c11eb04b-54b5-48bb-bb81-b6702adf9d3c"
    },
    {
      "cell_type": "code",
      "metadata": {
        "id": "54140e31-5a76-4ea3-aa3f-37ce39409ef2"
      },
      "source": [
        "s_xx = np.sum((x-x_mean)**2)\n",
        "\n",
        "# variance of betas estimator\n",
        "var_b1 = hat_var/s_xx\n",
        "var_b0 = hat_var *np.sum(x**2)/(n*s_xx)"
      ],
      "id": "54140e31-5a76-4ea3-aa3f-37ce39409ef2",
      "execution_count": null,
      "outputs": []
    },
    {
      "cell_type": "markdown",
      "metadata": {
        "id": "9eedde66-cbbf-47db-9879-48fcbd02d0d6"
      },
      "source": [
        "## 6. T-statistics \n",
        "\n",
        "Broadly speaking a test-statistics will help us to find how far our estimated value is from the null hypothesis.\n",
        "For a random varaible this will typically refer to the ratio of the departure of the estimated value of a parameter from its hypothesized value to its standard error.\n",
        "\n",
        "In this case, our estimate $\\hat{\\beta}_k$ has a t-distribution. \n",
        "\n",
        "\n",
        "\n",
        "$$T = \\dfrac{\\hat{\\beta}_k - 0}{\\sigma_{\\hat{\\beta}_k}}= \\dfrac{\\hat{\\beta}_k - 0}{SE_{\\hat{\\beta}_k}}$$\n"
      ],
      "id": "9eedde66-cbbf-47db-9879-48fcbd02d0d6"
    },
    {
      "cell_type": "code",
      "metadata": {
        "colab": {
          "base_uri": "https://localhost:8080/"
        },
        "id": "6672490c-28cd-47a8-ae32-a06914e8bbc7",
        "outputId": "46899edb-316f-462d-9e34-e78886b1d24f"
      },
      "source": [
        "t_score_b1 = b1/np.sqrt(var_b1)\n",
        "t_score_b1"
      ],
      "id": "6672490c-28cd-47a8-ae32-a06914e8bbc7",
      "execution_count": null,
      "outputs": [
        {
          "output_type": "execute_result",
          "data": {
            "text/plain": [
              "4.080136268863347"
            ]
          },
          "metadata": {
            "tags": []
          },
          "execution_count": 8
        }
      ]
    },
    {
      "cell_type": "markdown",
      "metadata": {
        "id": "50326e14-ddfe-4d94-a00a-1a0c3ea9d5b1"
      },
      "source": [
        "## 7. P-value\n",
        "\n"
      ],
      "id": "50326e14-ddfe-4d94-a00a-1a0c3ea9d5b1"
    },
    {
      "cell_type": "code",
      "metadata": {
        "id": "3c888e9e-51a2-457f-80bf-08ae4380688d"
      },
      "source": [
        "def get_p_value(t_score, df, two_tails=True):\n",
        "    p_value = stats.t.sf(np.abs(t_score),df)\n",
        "    if two_tails:\n",
        "        p_value *= 2\n",
        "    return p_value\n",
        "\n",
        "def get_p_value2(t_score, df, two_tails=True):\n",
        "    p_value = 1-stats.t.cdf(np.abs(t_score), df)\n",
        "    if two_tails:\n",
        "        p_value *= 2\n",
        "    return p_value"
      ],
      "id": "3c888e9e-51a2-457f-80bf-08ae4380688d",
      "execution_count": null,
      "outputs": []
    },
    {
      "cell_type": "code",
      "metadata": {
        "colab": {
          "base_uri": "https://localhost:8080/"
        },
        "id": "6633bfd0-e699-4112-b2b7-3d8c6ec7a376",
        "outputId": "91db83fd-c360-42d2-e854-5befebfb7a2d"
      },
      "source": [
        "p_value_b1 = get_p_value(t_score_b1, n-2)\n",
        "print(get_p_value(t_score_b1, n-2))\n",
        "print(get_p_value2(t_score_b1, n-2))"
      ],
      "id": "6633bfd0-e699-4112-b2b7-3d8c6ec7a376",
      "execution_count": null,
      "outputs": [
        {
          "output_type": "stream",
          "text": [
            "0.0003388351359791947\n",
            "0.00033883513597920967\n"
          ],
          "name": "stdout"
        }
      ]
    },
    {
      "cell_type": "code",
      "metadata": {
        "colab": {
          "base_uri": "https://localhost:8080/"
        },
        "id": "d0c67e99-608b-4ca4-8ae6-eae19de81458",
        "outputId": "49e2c087-d009-4d60-8588-7ba56be7fe24"
      },
      "source": [
        "t_score_b0 = b0/np.sqrt(var_b0)\n",
        "p_value_b0 = get_p_value(t_score_b0, n-2)\n",
        "print(p_value_b0)\n",
        "print(get_p_value2(t_score_b0, n-2))"
      ],
      "id": "d0c67e99-608b-4ca4-8ae6-eae19de81458",
      "execution_count": null,
      "outputs": [
        {
          "output_type": "stream",
          "text": [
            "0.002870550837586551\n",
            "0.002870550837586583\n"
          ],
          "name": "stdout"
        }
      ]
    },
    {
      "cell_type": "markdown",
      "metadata": {
        "id": "3a4f5243-82c7-45b2-9a09-1947e49f1c54"
      },
      "source": [
        "## 8. Confidence Intervals\n",
        "\n",
        "To estimate the uncertainty about this estimates we can create a confidence interval of our paramters \n",
        "\n",
        "$$ \\hat{\\beta}_k\\pm t*SE$$"
      ],
      "id": "3a4f5243-82c7-45b2-9a09-1947e49f1c54"
    },
    {
      "cell_type": "code",
      "metadata": {
        "id": "702c0378-d483-4b04-9907-f9603b8cdb42"
      },
      "source": [
        "def get_confidence_interval(parameter, confidence, SE, df):\n",
        "    t_value = stats.t.ppf((1 + confidence) / 2., df)\n",
        "    error = t_value * SE\n",
        "    return (parameter-error, parameter+error )"
      ],
      "id": "702c0378-d483-4b04-9907-f9603b8cdb42",
      "execution_count": null,
      "outputs": []
    },
    {
      "cell_type": "code",
      "metadata": {
        "colab": {
          "base_uri": "https://localhost:8080/"
        },
        "id": "5b2b2792-f36e-4b4f-a87f-4470e28cd24b",
        "outputId": "1339a72d-82d3-4fa2-c11b-a1093c7c0c30"
      },
      "source": [
        "ci_b0 = get_confidence_interval(b0, 0.95, np.sqrt(var_b0), df=n-2)\n",
        "ci_b1 = get_confidence_interval(b1, 0.95, np.sqrt(var_b1), df=n-2)\n",
        "print('Confidence Interval for beta0:', ci_b0)\n",
        "print('Confidence Interval for beta1:',ci_b1)"
      ],
      "id": "5b2b2792-f36e-4b4f-a87f-4470e28cd24b",
      "execution_count": null,
      "outputs": [
        {
          "output_type": "stream",
          "text": [
            "Confidence Interval for beta0: (-4537.959298220906, -1040.5264726636067)\n",
            "Confidence Interval for beta1: (0.31398627450230154, 0.9471137111742646)\n"
          ],
          "name": "stdout"
        }
      ]
    },
    {
      "cell_type": "markdown",
      "metadata": {
        "id": "903eecfd-392a-44bd-84b2-17fe165587da"
      },
      "source": [
        "## 9. Assessing the Overall Accuracy of the Model $R^2$\n",
        "\n",
        "$$R^2 = \\frac{TSS-RSS}{TSS}$$"
      ],
      "id": "903eecfd-392a-44bd-84b2-17fe165587da"
    },
    {
      "cell_type": "code",
      "metadata": {
        "colab": {
          "base_uri": "https://localhost:8080/"
        },
        "id": "c36d0872-9ff1-48de-857d-540c03b99679",
        "outputId": "d34cfcbe-8627-4362-d5e5-57059b6fb2bd"
      },
      "source": [
        "TSS = np.sum((y-y.mean())**2)\n",
        "\n",
        "r_square = (TSS-RSS)/TSS\n",
        "r_square"
      ],
      "id": "c36d0872-9ff1-48de-857d-540c03b99679",
      "execution_count": null,
      "outputs": [
        {
          "output_type": "execute_result",
          "data": {
            "text/plain": [
              "0.3728653901868065"
            ]
          },
          "metadata": {
            "tags": []
          },
          "execution_count": 14
        }
      ]
    },
    {
      "cell_type": "code",
      "metadata": {
        "colab": {
          "base_uri": "https://localhost:8080/"
        },
        "id": "93c1b9f4-4df6-4940-9c7a-5debb4702e93",
        "outputId": "4df96949-2372-49af-e561-a9ab6e1d7040"
      },
      "source": [
        "parameters ={}\n",
        "parameters['hat_beta_1'] = b1\n",
        "parameters['hat_beta_0'] = b0\n",
        "parameters['hat_sigma'] = hat_sigma\n",
        "parameters['hat_sigma_beta_0'] = np.sqrt(var_b0)\n",
        "parameters['hat_sigma_beta_1'] = np.sqrt(var_b1)\n",
        "parameters['t_beta_1'] = t_score_b1\n",
        "parameters['t_beta_0'] = t_score_b0\n",
        "parameters['p_beta_0'] = p_value_b0\n",
        "parameters['ci_b0'] = ci_b0\n",
        "parameters['ci_b1'] = ci_b1\n",
        "parameters['r_square']= r_square\n",
        "parameters"
      ],
      "id": "93c1b9f4-4df6-4940-9c7a-5debb4702e93",
      "execution_count": null,
      "outputs": [
        {
          "output_type": "execute_result",
          "data": {
            "text/plain": [
              "{'ci_b0': (-4537.959298220906, -1040.5264726636067),\n",
              " 'ci_b1': (0.31398627450230154, 0.9471137111742646),\n",
              " 'hat_beta_0': -2789.2428854422565,\n",
              " 'hat_beta_1': 0.6305499928382831,\n",
              " 'hat_sigma': 66.47283773560623,\n",
              " 'hat_sigma_beta_0': 853.6957214697355,\n",
              " 'hat_sigma_beta_1': 0.15454140530800042,\n",
              " 'p_beta_0': 0.002870550837586551,\n",
              " 'r_square': 0.3728653901868065,\n",
              " 't_beta_0': -3.2672564888110878,\n",
              " 't_beta_1': 4.080136268863347}"
            ]
          },
          "metadata": {
            "tags": []
          },
          "execution_count": 15
        }
      ]
    },
    {
      "cell_type": "markdown",
      "metadata": {
        "id": "f7452ea1-9bc5-4384-b871-24925fe06dff"
      },
      "source": [
        "## 10. Model diagnostics\n",
        "\n",
        "\n",
        "To assess whether the linear model is reliable, we need to check for \n",
        "\n",
        "- (1) linearity, \n",
        "- (2) nearly normal residuals, and \n",
        "- (3) constant variability.\n"
      ],
      "id": "f7452ea1-9bc5-4384-b871-24925fe06dff"
    },
    {
      "cell_type": "code",
      "metadata": {
        "id": "b9333eda-549c-4420-a182-5d3d6086fb87"
      },
      "source": [
        "def run_analysis(variables):\n",
        "    n_rows = len(variables)\n",
        "    fig, axs = plt.subplots(n_rows, 4, figsize=(4*7,n_rows*6))\n",
        "    ax = axs.flatten()\n",
        "\n",
        "    for i, explanatory_variable in enumerate(variables):\n",
        "\n",
        "        correlation = baseball[explanatory_variable].corr(baseball['runs'])\n",
        "        sns.scatterplot(x=explanatory_variable, y=\"runs\", data=baseball, ax=ax[4*i +0])\n",
        "        ax[4*i + 0].set_title(explanatory_variable + ' vs runs with correlation {:.4f}'.format(correlation))\n",
        "\n",
        "        formula_string = \"runs ~ {}\".format(explanatory_variable)\n",
        "        model = sm.formula.ols(formula = formula_string, data = baseball)\n",
        "        model_fitted = model.fit()\n",
        "\n",
        "        # compute residuals\n",
        "        y = baseball.runs.values\n",
        "        yhat = model_fitted.params['Intercept'] + model_fitted.params[explanatory_variable]*baseball[explanatory_variable].values\n",
        "        e = y-yhat\n",
        "\n",
        "        sns.residplot(x=explanatory_variable, y=\"runs\", data=baseball, ax=ax[4*i +1])\n",
        "        ax[4*i +1].set_title('Residuals')\n",
        "\n",
        "        sns.histplot(e, ax=ax[4*i +2])\n",
        "        ax[4*i +2].set_xlabel('Residuals')\n",
        "        ax[4*i +2].set_title('Histogram')\n",
        "\n",
        "        sm.qqplot(e, ax=ax[4*i +3])\n",
        "        ax[4*i +3].set_title('QQplot')\n",
        "    plt.show()"
      ],
      "id": "b9333eda-549c-4420-a182-5d3d6086fb87",
      "execution_count": null,
      "outputs": []
    },
    {
      "cell_type": "code",
      "metadata": {
        "colab": {
          "base_uri": "https://localhost:8080/",
          "height": 405
        },
        "id": "b7b2ecee-79dc-4c38-a930-174bd7fcb4bc",
        "outputId": "2332200a-2331-4545-d4ba-9af8f09449ec"
      },
      "source": [
        "traditional_variables = ['at_bats'] #, 'homeruns', 'bat_avg', 'strikeouts', 'wins']\n",
        "run_analysis(traditional_variables)"
      ],
      "id": "b7b2ecee-79dc-4c38-a930-174bd7fcb4bc",
      "execution_count": null,
      "outputs": [
        {
          "output_type": "display_data",
          "data": {
            "image/png": "[encoded data removed]",
            "text/plain": [
              "<Figure size 2016x432 with 4 Axes>"
            ]
          },
          "metadata": {
            "tags": [],
            "needs_background": "light"
          }
        }
      ]
    },
    {
      "cell_type": "markdown",
      "metadata": {
        "id": "e0ca36b1-7fc2-4fa5-94a8-3bc061334fc1"
      },
      "source": [
        "It seems to be some deviations from normality, both in the qq-plot and the histogram, but these are not very pronounced"
      ],
      "id": "e0ca36b1-7fc2-4fa5-94a8-3bc061334fc1"
    },
    {
      "cell_type": "markdown",
      "metadata": {
        "id": "775aed43-4844-46c3-83bc-53e52f89cd36"
      },
      "source": [
        "# Multivariate linear regression\n",
        "\n",
        "In this section we are going to  <span style=\"color:red\"> The search for the best model </span> using the **backward selection with the p-value** method!.\n",
        "\n",
        "Steps:\n",
        "\n",
        "1. Starts with the full model.\n",
        "2. Drop the variable with the highest p-value and refit a smaller model\n",
        "3. Repeat until all variables left in the model are statistically significant \n"
      ],
      "id": "775aed43-4844-46c3-83bc-53e52f89cd36"
    },
    {
      "cell_type": "code",
      "metadata": {
        "colab": {
          "base_uri": "https://localhost:8080/"
        },
        "id": "ed81465a-504e-42fb-afff-847cd1d05189",
        "outputId": "f19d07af-84b5-429e-d669-d7f15c2c061a"
      },
      "source": [
        "explainatory_variables = ['at_bats', 'hits', 'homeruns', 'bat_avg', 'strikeouts','stolen_bases', 'wins', 'new_onbase', 'new_slug', 'new_obs']\n",
        "\n",
        "# start\n",
        "print('Fitting the model')\n",
        "m_full = sm.formula.ols(formula = 'runs ~ ' +  '+'.join(explainatory_variables), data = baseball)\n",
        "multi_reg = m_full.fit()\n",
        "\n",
        "\n",
        "# refit model\n",
        "for i in range(len(explainatory_variables)):\n",
        "    # get variable wiht highest p-value and remove it if > 0.005\n",
        "    variable_with_highest_pvalue = multi_reg.pvalues[1:].sort_values(ascending=False).keys()[0]\n",
        "    p_value = multi_reg.pvalues[variable_with_highest_pvalue]\n",
        "    \n",
        "    if (p_value > 0.05):\n",
        "        print('Dropping variable with the highest p-value : ' + variable_with_highest_pvalue + ' with p-value: ',  p_value)\n",
        "        print(variable_with_highest_pvalue)\n",
        "        variable_to_remove = variable_with_highest_pvalue.split('[')[0]\n",
        "        explainatory_variables.remove(variable_to_remove)\n",
        "\n",
        "        # fit model\n",
        "        print('ReFitting the model')\n",
        "        m_full = sm.formula.ols(formula = 'runs ~ ' +  '+'.join(explainatory_variables), data = baseball)\n",
        "        multi_reg = m_full.fit()\n",
        "    else:\n",
        "        print('Final model')\n",
        "        print(multi_reg.summary())\n",
        "        break;"
      ],
      "id": "ed81465a-504e-42fb-afff-847cd1d05189",
      "execution_count": null,
      "outputs": [
        {
          "output_type": "stream",
          "text": [
            "Fitting the model\n",
            "Dropping variable with the highest p-value : wins with p-value:  0.7854185151408594\n",
            "wins\n",
            "ReFitting the model\n",
            "Dropping variable with the highest p-value : new_onbase with p-value:  0.611889128813334\n",
            "new_onbase\n",
            "ReFitting the model\n",
            "Dropping variable with the highest p-value : strikeouts with p-value:  0.5350119201403949\n",
            "strikeouts\n",
            "ReFitting the model\n",
            "Dropping variable with the highest p-value : homeruns with p-value:  0.28065370031714987\n",
            "homeruns\n",
            "ReFitting the model\n",
            "Dropping variable with the highest p-value : at_bats with p-value:  0.37436361754415015\n",
            "at_bats\n",
            "ReFitting the model\n",
            "Dropping variable with the highest p-value : hits with p-value:  0.11361058941998753\n",
            "hits\n",
            "ReFitting the model\n",
            "Dropping variable with the highest p-value : bat_avg with p-value:  0.16240008371800368\n",
            "bat_avg\n",
            "ReFitting the model\n",
            "Dropping variable with the highest p-value : new_slug with p-value:  0.345724093350269\n",
            "new_slug\n",
            "ReFitting the model\n",
            "Final model\n",
            "                            OLS Regression Results                            \n",
            "==============================================================================\n",
            "Dep. Variable:                   runs   R-squared:                       0.948\n",
            "Model:                            OLS   Adj. R-squared:                  0.944\n",
            "Method:                 Least Squares   F-statistic:                     245.7\n",
            "Date:                Thu, 22 Jul 2021   Prob (F-statistic):           4.73e-18\n",
            "Time:                        21:47:13   Log-Likelihood:                -130.11\n",
            "No. Observations:                  30   AIC:                             266.2\n",
            "Df Residuals:                      27   BIC:                             270.4\n",
            "Df Model:                           2                                         \n",
            "Covariance Type:            nonrobust                                         \n",
            "================================================================================\n",
            "                   coef    std err          t      P>|t|      [0.025      0.975]\n",
            "--------------------------------------------------------------------------------\n",
            "Intercept     -731.1710     65.095    -11.232      0.000    -864.735    -597.607\n",
            "stolen_bases     0.3154      0.122      2.596      0.015       0.066       0.565\n",
            "new_obs       1933.3858     87.346     22.135      0.000    1754.167    2112.604\n",
            "==============================================================================\n",
            "Omnibus:                        0.853   Durbin-Watson:                   2.591\n",
            "Prob(Omnibus):                  0.653   Jarque-Bera (JB):                0.758\n",
            "Skew:                          -0.032   Prob(JB):                        0.685\n",
            "Kurtosis:                       2.224   Cond. No.                     3.44e+03\n",
            "==============================================================================\n",
            "\n",
            "Warnings:\n",
            "[1] Standard Errors assume that the covariance matrix of the errors is correctly specified.\n",
            "[2] The condition number is large, 3.44e+03. This might indicate that there are\n",
            "strong multicollinearity or other numerical problems.\n"
          ],
          "name": "stdout"
        }
      ]
    },
    {
      "cell_type": "code",
      "metadata": {
        "colab": {
          "base_uri": "https://localhost:8080/",
          "height": 636
        },
        "id": "7f436107-fab5-423b-bd85-23894998f40c",
        "outputId": "c00883e7-a631-4102-e537-96f4d0a0548e"
      },
      "source": [
        "sns.set(font_scale=1.3)\n",
        "sns.set_style(\"whitegrid\")\n",
        "\n",
        "# get predictions and residuals\n",
        "predicted_value = multi_reg.predict()\n",
        "residuals = y - predicted_value\n",
        "\n",
        "fig, axs = plt.subplots(2, 3, figsize=(3*7,2*5))\n",
        "ax = axs.flatten() \n",
        "\n",
        "\n",
        "# a histogram and QQ-plot of the residuals\n",
        "sm.qqplot(residuals, ax=ax[0])\n",
        "ax[0].set_title('Assumption 1: Nearly normal (QQplot)')\n",
        "\n",
        "# scatterplot of the (absolute) residuals (y-axis) against the predicted values (x-axis)\n",
        "sns.scatterplot(x=predicted_value, y=np.abs(residuals), ax=ax[1])\n",
        "ax[1].set_xlabel('Predicted values')\n",
        "ax[1].set_ylabel('Absolute Value of Residuals')\n",
        "ax[1].set_title('Assumption 1: Constant variability in residuals')\n",
        "\n",
        "# scatterplot of the residuals (y-axis) against the order of collection (x-axis) \n",
        "sns.scatterplot(x=np.arange(residuals.size), y=residuals, ax=ax[2])\n",
        "ax[2].set_xlabel('Order of collection')\n",
        "ax[2].set_ylabel('Residuals')\n",
        "ax[2].set_title('Assumption 3: Independent residuals')\n",
        "\n",
        "# scatterplots of the residuals (y-axis) against each of the explanatory variables (x-axis)\n",
        "for i, explanatory_var in enumerate(multi_reg.params[1:].keys()):\n",
        "        sns.scatterplot(x=explanatory_var.split('[')[0], y=residuals, data=baseball, ax=ax[i+3])\n",
        "        ax[i+3].set_title('Assumption 4: Linearly related to the outcome')\n",
        "        ax[i+3].set_ylabel('Residuals')\n",
        "\n",
        "fig.subplots_adjust(hspace=0.4)\n",
        "plt.show()"
      ],
      "id": "7f436107-fab5-423b-bd85-23894998f40c",
      "execution_count": null,
      "outputs": [
        {
          "output_type": "display_data",
          "data": {
            "image/png": "[encoded data removed]",
            "text/plain": [
              "<Figure size 1512x720 with 6 Axes>"
            ]
          },
          "metadata": {
            "tags": []
          }
        }
      ]
    },
    {
      "cell_type": "code",
      "metadata": {
        "id": "lHm-IF21L9YM"
      },
      "source": [
        ""
      ],
      "id": "lHm-IF21L9YM",
      "execution_count": null,
      "outputs": []
    }
  ]
}